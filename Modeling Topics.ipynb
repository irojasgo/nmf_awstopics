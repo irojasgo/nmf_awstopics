{
 "cells": [
  {
   "cell_type": "markdown",
   "metadata": {},
   "source": [
    "# Project 5: Topic Modeling using NMF | Extracting topics from AWS Documentation\n",
    "- Used Non-Negative Matrix Factorization to model topics from AWS document extracts\n",
    "- Performed Natural Language Processing preprocessing tasks "
   ]
  },
  {
   "cell_type": "code",
   "execution_count": 79,
   "metadata": {},
   "outputs": [
    {
     "data": {
      "text/html": [
       "<div>\n",
       "<style scoped>\n",
       "    .dataframe tbody tr th:only-of-type {\n",
       "        vertical-align: middle;\n",
       "    }\n",
       "\n",
       "    .dataframe tbody tr th {\n",
       "        vertical-align: top;\n",
       "    }\n",
       "\n",
       "    .dataframe thead th {\n",
       "        text-align: right;\n",
       "    }\n",
       "</style>\n",
       "<table border=\"1\" class=\"dataframe\">\n",
       "  <thead>\n",
       "    <tr style=\"text-align: right;\">\n",
       "      <th></th>\n",
       "      <th>Document</th>\n",
       "    </tr>\n",
       "  </thead>\n",
       "  <tbody>\n",
       "    <tr>\n",
       "      <th>0</th>\n",
       "      <td>amazon ec2 provides the following networking f...</td>\n",
       "    </tr>\n",
       "    <tr>\n",
       "      <th>1</th>\n",
       "      <td>amazon elastic compute cloud (amazon ec2) conf...</td>\n",
       "    </tr>\n",
       "    <tr>\n",
       "      <th>2</th>\n",
       "      <td>amazon ec2 provides amazon cloudwatch metrics ...</td>\n",
       "    </tr>\n",
       "    <tr>\n",
       "      <th>3</th>\n",
       "      <td>the following procedures are for creating an i...</td>\n",
       "    </tr>\n",
       "    <tr>\n",
       "      <th>4</th>\n",
       "      <td>an ec2 fleet is a group of on-demand instances...</td>\n",
       "    </tr>\n",
       "  </tbody>\n",
       "</table>\n",
       "</div>"
      ],
      "text/plain": [
       "                                            Document\n",
       "0  amazon ec2 provides the following networking f...\n",
       "1  amazon elastic compute cloud (amazon ec2) conf...\n",
       "2  amazon ec2 provides amazon cloudwatch metrics ...\n",
       "3  the following procedures are for creating an i...\n",
       "4  an ec2 fleet is a group of on-demand instances..."
      ]
     },
     "execution_count": 79,
     "metadata": {},
     "output_type": "execute_result"
    }
   ],
   "source": [
    "#We load the corpus dataset\n",
    "import pandas as pd\n",
    "import seaborn as sns\n",
    "df = pd.read_csv('AWS Documents.csv', sep='\\t')\n",
    "df.head()"
   ]
  },
  {
   "cell_type": "code",
   "execution_count": 80,
   "metadata": {},
   "outputs": [
    {
     "data": {
      "text/plain": [
       "1205"
      ]
     },
     "execution_count": 80,
     "metadata": {},
     "output_type": "execute_result"
    }
   ],
   "source": [
    "#Take a look at how many records exists\n",
    "len(df)"
   ]
  },
  {
   "cell_type": "code",
   "execution_count": 81,
   "metadata": {},
   "outputs": [],
   "source": [
    "#We'll use Sklearns implementation of the NMF algorith\n",
    "from sklearn.decomposition import NMF\n",
    "\n",
    "#Imported TFIDF vectorizer for preprocessing\n",
    "from sklearn.feature_extraction.text import TfidfVectorizer\n",
    "\n",
    "#As wel las NTLK's stop words\n",
    "from nltk.corpus import stopwords\n",
    "stops = set(stopwords.words('english'))\n",
    "\n",
    "#Creating an instance of the vectorizer (words need to be present in 2 or more docs to be considered)\n",
    "vectorizer = TfidfVectorizer(min_df=2, stop_words=stops)\n",
    "\n",
    "#Training data is transformed\n",
    "X_transform = vectorizer.fit_transform(df['Document'])\n",
    "\n",
    "#NMF model is instanciated and fit to training data\n",
    "model = NMF(n_components=3)\n",
    "results = model.fit_transform(X_transform)"
   ]
  },
  {
   "cell_type": "code",
   "execution_count": 82,
   "metadata": {},
   "outputs": [
    {
     "data": {
      "text/plain": [
       "1205"
      ]
     },
     "execution_count": 82,
     "metadata": {},
     "output_type": "execute_result"
    }
   ],
   "source": [
    "len(results.argmax(axis=1))"
   ]
  },
  {
   "cell_type": "code",
   "execution_count": 83,
   "metadata": {},
   "outputs": [],
   "source": [
    "#Assigning a topic ID to original dataframe\n",
    "df['Topic'] = results.argmax(axis=1)"
   ]
  },
  {
   "cell_type": "code",
   "execution_count": 84,
   "metadata": {},
   "outputs": [
    {
     "data": {
      "text/html": [
       "<div>\n",
       "<style scoped>\n",
       "    .dataframe tbody tr th:only-of-type {\n",
       "        vertical-align: middle;\n",
       "    }\n",
       "\n",
       "    .dataframe tbody tr th {\n",
       "        vertical-align: top;\n",
       "    }\n",
       "\n",
       "    .dataframe thead th {\n",
       "        text-align: right;\n",
       "    }\n",
       "</style>\n",
       "<table border=\"1\" class=\"dataframe\">\n",
       "  <thead>\n",
       "    <tr style=\"text-align: right;\">\n",
       "      <th></th>\n",
       "      <th>Document</th>\n",
       "      <th>Topic</th>\n",
       "    </tr>\n",
       "  </thead>\n",
       "  <tbody>\n",
       "    <tr>\n",
       "      <th>0</th>\n",
       "      <td>amazon ec2 provides the following networking f...</td>\n",
       "      <td>1</td>\n",
       "    </tr>\n",
       "    <tr>\n",
       "      <th>1</th>\n",
       "      <td>amazon elastic compute cloud (amazon ec2) conf...</td>\n",
       "      <td>1</td>\n",
       "    </tr>\n",
       "    <tr>\n",
       "      <th>2</th>\n",
       "      <td>amazon ec2 provides amazon cloudwatch metrics ...</td>\n",
       "      <td>1</td>\n",
       "    </tr>\n",
       "    <tr>\n",
       "      <th>3</th>\n",
       "      <td>the following procedures are for creating an i...</td>\n",
       "      <td>1</td>\n",
       "    </tr>\n",
       "    <tr>\n",
       "      <th>4</th>\n",
       "      <td>an ec2 fleet is a group of on-demand instances...</td>\n",
       "      <td>1</td>\n",
       "    </tr>\n",
       "  </tbody>\n",
       "</table>\n",
       "</div>"
      ],
      "text/plain": [
       "                                            Document  Topic\n",
       "0  amazon ec2 provides the following networking f...      1\n",
       "1  amazon elastic compute cloud (amazon ec2) conf...      1\n",
       "2  amazon ec2 provides amazon cloudwatch metrics ...      1\n",
       "3  the following procedures are for creating an i...      1\n",
       "4  an ec2 fleet is a group of on-demand instances...      1"
      ]
     },
     "execution_count": 84,
     "metadata": {},
     "output_type": "execute_result"
    }
   ],
   "source": [
    "df.head()"
   ]
  },
  {
   "cell_type": "code",
   "execution_count": 85,
   "metadata": {},
   "outputs": [
    {
     "name": "stderr",
     "output_type": "stream",
     "text": [
      "c:\\Users\\Ivan\\AppData\\Local\\Programs\\Python\\Python39\\lib\\site-packages\\seaborn\\_decorators.py:36: FutureWarning: Pass the following variable as a keyword arg: x. From version 0.12, the only valid positional argument will be `data`, and passing other arguments without an explicit keyword will result in an error or misinterpretation.\n",
      "  warnings.warn(\n"
     ]
    },
    {
     "data": {
      "text/plain": [
       "<AxesSubplot:xlabel='Topic', ylabel='count'>"
      ]
     },
     "execution_count": 85,
     "metadata": {},
     "output_type": "execute_result"
    },
    {
     "data": {
      "image/png": "[encoded data removed]",
      "text/plain": [
       "<Figure size 640x480 with 1 Axes>"
      ]
     },
     "metadata": {},
     "output_type": "display_data"
    }
   ],
   "source": [
    "#Count how many instances of each topic there are\n",
    "sns.countplot(df['Topic'])"
   ]
  },
  {
   "cell_type": "code",
   "execution_count": 86,
   "metadata": {},
   "outputs": [
    {
     "name": "stdout",
     "output_type": "stream",
     "text": [
      "Topic 0\n",
      "=========================\n",
      "['policy', 'see', 'want', 'delete', 'guide', 'service', 'simple', 'developer', 'public', 'name', 'console', 'storage', 'aws', 'objects', 'amazon', 'choose', 'access', 'object', 's3', 'bucket']\n",
      "Topic 1\n",
      "=========================\n",
      "['notebook', 'aws', 'device', 'following', 'see', 'use', 'choose', 'information', 'spot', 'linux', 'amazon', 'command', 'volumes', 'ebs', 'launch', 'ec2', 'ami', 'instances', 'volume', 'instance']\n",
      "Topic 2\n",
      "=========================\n",
      "['input', 'task', 'following', 'hyperparameters', 'endpoint', 'image', 'inference', 'create', 'tuning', 'container', 'labeling', 'use', 'data', 'notebook', 'algorithm', 'job', 'amazon', 'training', 'model', 'sagemaker']\n"
     ]
    }
   ],
   "source": [
    "#Taking a look at words present in each topic in order to better define them\n",
    "for value,topic in enumerate(model.components_):\n",
    "    print(f\"Topic {value}\")\n",
    "    print('=========================')\n",
    "    words = []\n",
    "    for index in topic.argsort()[-20:]:\n",
    "        try:\n",
    "            words.append(vectorizer.get_feature_names_out()[index])\n",
    "        except:\n",
    "            pass\n",
    "    print(words)"
   ]
  },
  {
   "cell_type": "code",
   "execution_count": 87,
   "metadata": {},
   "outputs": [
    {
     "data": {
      "text/html": [
       "<div>\n",
       "<style scoped>\n",
       "    .dataframe tbody tr th:only-of-type {\n",
       "        vertical-align: middle;\n",
       "    }\n",
       "\n",
       "    .dataframe tbody tr th {\n",
       "        vertical-align: top;\n",
       "    }\n",
       "\n",
       "    .dataframe thead th {\n",
       "        text-align: right;\n",
       "    }\n",
       "</style>\n",
       "<table border=\"1\" class=\"dataframe\">\n",
       "  <thead>\n",
       "    <tr style=\"text-align: right;\">\n",
       "      <th></th>\n",
       "      <th>Document</th>\n",
       "      <th>Topic</th>\n",
       "    </tr>\n",
       "  </thead>\n",
       "  <tbody>\n",
       "    <tr>\n",
       "      <th>0</th>\n",
       "      <td>amazon ec2 provides the following networking f...</td>\n",
       "      <td>EC2_Instances</td>\n",
       "    </tr>\n",
       "    <tr>\n",
       "      <th>1</th>\n",
       "      <td>amazon elastic compute cloud (amazon ec2) conf...</td>\n",
       "      <td>EC2_Instances</td>\n",
       "    </tr>\n",
       "    <tr>\n",
       "      <th>2</th>\n",
       "      <td>amazon ec2 provides amazon cloudwatch metrics ...</td>\n",
       "      <td>EC2_Instances</td>\n",
       "    </tr>\n",
       "    <tr>\n",
       "      <th>3</th>\n",
       "      <td>the following procedures are for creating an i...</td>\n",
       "      <td>EC2_Instances</td>\n",
       "    </tr>\n",
       "    <tr>\n",
       "      <th>4</th>\n",
       "      <td>an ec2 fleet is a group of on-demand instances...</td>\n",
       "      <td>EC2_Instances</td>\n",
       "    </tr>\n",
       "  </tbody>\n",
       "</table>\n",
       "</div>"
      ],
      "text/plain": [
       "                                            Document          Topic\n",
       "0  amazon ec2 provides the following networking f...  EC2_Instances\n",
       "1  amazon elastic compute cloud (amazon ec2) conf...  EC2_Instances\n",
       "2  amazon ec2 provides amazon cloudwatch metrics ...  EC2_Instances\n",
       "3  the following procedures are for creating an i...  EC2_Instances\n",
       "4  an ec2 fleet is a group of on-demand instances...  EC2_Instances"
      ]
     },
     "execution_count": 87,
     "metadata": {},
     "output_type": "execute_result"
    }
   ],
   "source": [
    "#Mapping topic numbers to meaningful IDs according to the words displayed above\n",
    "topics = {\n",
    "    0:'Compute', #All texts assigned to ID 0 will be considered \"Compute topics\"\n",
    "    1:\"EC2_Instances\", #All texts assigned to ID 1 will be considered \"EC2 instance topics\"\n",
    "    2:\"Machine_Learning\" #All texts assigned to ID 02will be considered \"Machine learning topics\"\n",
    "}\n",
    "df['Topic'] = df['Topic'].map(topics)\n",
    "df.head()"
   ]
  },
  {
   "cell_type": "code",
   "execution_count": 98,
   "metadata": {},
   "outputs": [
    {
     "name": "stderr",
     "output_type": "stream",
     "text": [
      "c:\\Users\\Ivan\\AppData\\Local\\Programs\\Python\\Python39\\lib\\site-packages\\seaborn\\_decorators.py:36: FutureWarning: Pass the following variable as a keyword arg: x. From version 0.12, the only valid positional argument will be `data`, and passing other arguments without an explicit keyword will result in an error or misinterpretation.\n",
      "  warnings.warn(\n"
     ]
    },
    {
     "data": {
      "text/plain": [
       "<AxesSubplot:xlabel='Topic', ylabel='count'>"
      ]
     },
     "execution_count": 98,
     "metadata": {},
     "output_type": "execute_result"
    },
    {
     "data": {
      "image/png": "[encoded data removed]",
      "text/plain": [
       "<Figure size 640x480 with 1 Axes>"
      ]
     },
     "metadata": {},
     "output_type": "display_data"
    }
   ],
   "source": [
    "#Gettingt he same graph from 2 cells above\n",
    "sns.countplot(df['Topic'])"
   ]
  },
  {
   "cell_type": "code",
   "execution_count": 90,
   "metadata": {},
   "outputs": [
    {
     "data": {
      "text/plain": [
       "'hyperparameter tuning finds the best hyperparameter values for your model by searching over ranges of hyperparameters. you specify the hyperparameters and range of values over which to search by defining hyperparameter ranges for your tuning job. choosing hyperparameters and ranges significantly affects the performance of your tuning job. for guidance on choosing hyperparameters and ranges, see . to define hyperparameter ranges by using the low-level api, you specify the names of hyperparameters and ranges of values in the  field of the  parameter that you pass to the  operation. the  field has three subfields, one for each of the categorical, integer, and continuous hyperparameter ranges. you can define up to 20 hyperparameters to search over. each value of a categorical hyperparameter range counts as a hyperparameter against the limit. hyperparameter ranges have the following structure: for integer and continuous hyperparameter ranges, you can choose the scale you want hyperparameter tuning to use to search the range of values by specifying a value for the  field of the hyperparameter range. you can choose from the following scaling types: autoamazon sagemaker hyperparameter tuning chooses the best scale for the hyperparameter. linearhyperparameter tuning searches the values in the hyperparameter range by using a linear scale. typically, you choose this if the range of all values from the lowest to the highest is relatively small (within one order of magnitude), because uniformly searching values from the range will give you a reasonable exploration of the entire range. logarithmichyperparameter tuning searches the values in the hyperparameter range by using a logarithmic scale.logarithmic scaling works only for ranges that have only values greater than 0.choose logarithmic scaling when you are searching a range that spans several orders of magnitude. for example, if you are tuning a  model, and you specify a range of values between .0001 and 1.0 for the  hyperparameter, searching uniformly on a logarithmic scale gives you a better sample of the entire range than searching on a linear scale would, because searching on a linear scale would, on average, devote 90 percent of your training budget to only the values between .1 and 1.0, leaving only 10 percent of your training budget for the values between .0001 and .1. reverselogarithmichyperparameter tuning searches the values in the hyperparameter range by using a reverse logarithmic scale. reverse logarithmic scaling is supported only for continuous hyperparameter ranges. it is not supported for integer hyperparameter ranges.reverse logarithmic scaling works only for ranges that are entirely within the range 0<=x<1.0.choose reverse logarithmic scaling when you are searching a range that is highly sensitive to small changes that are very close to 1. for an example notebook that uses hyperparameter scaling, see . '"
      ]
     },
     "execution_count": 90,
     "metadata": {},
     "output_type": "execute_result"
    }
   ],
   "source": [
    "#Inspecting text assigned to machine learning topics to assess if it truly speaks about that\n",
    "df[df['Topic']=='Machine_Learning'].iloc[13]['Document']"
   ]
  },
  {
   "cell_type": "code",
   "execution_count": 94,
   "metadata": {},
   "outputs": [
    {
     "data": {
      "text/plain": [
       "\"an ec2 fleet contains the configuration information to launch a fleet—or group—of instances. in a single api call, a fleet can launch multiple instance types across multiple availability zones, using the on-demand instance, reserved instance, and spot instance purchasing options together. using ec2 fleet, you can: define separate on-demand and spot capacity targets and the maximum amount you’re willing to pay per hourspecify the instance types that work best for your applicationsspecify how amazon ec2 should distribute your fleet capacity within each purchasing optionyou can also set a maximum amount per hour that you’re willing to pay for your fleet, and ec2 fleet launches instances until it reaches the maximum amount. when the maximum amount you're willing to pay is reached, the fleet stops launching instances even if it hasn’t met the target capacity. the ec2 fleet attempts to launch the number of instances that are required to meet the target capacity specified in your request. if you specified a total maximum price per hour, it fulfills the capacity until it reaches the maximum amount that you’re willing to pay. the fleet can also attempt to maintain its target spot capacity if your spot instances are interrupted. for more information, see .  you can specify an unlimited number of instance types per ec2 fleet. those instance types can be provisioned using both on-demand and spot purchasing options. you can also specify multiple availability zones, specify different maximum spot prices for each instance, and choose additional spot options for each fleet. amazon ec2 uses the specified options to provision capacity when the fleet launches. while the fleet is running, if amazon ec2 reclaims a spot instance because of a price increase or instance failure, ec2 fleet can try to replace the instances with any of the instance types that you specify. this makes it easier to regain capacity during a spike in spot pricing. you can develop a flexible and elastic resourcing strategy for each fleet. for example, within specific fleets, your primary capacity can be on-demand supplemented with less-expensive spot capacity if available.  if you have reserved instances and you specify on-demand instances in your fleet, ec2 fleet uses your reserved instances. for example, if your fleet specifies an on-demand instance as , and you have reserved instances for , you receive the reserved instance pricing. there is no additional charge for using ec2 fleet. you pay only for the ec2 instances that the fleet launches for you. topics the following limitations apply to ec2 fleet: ec2 fleet is available only through the api or aws cli.an ec2 fleet request can't span aws regions. you need to create a separate ec2 fleet for each region.an ec2 fleet request can't span different subnets from the same availability zone.the usual amazon ec2 limits apply to instances launched by an ec2 fleet, such as spot request price limits, instance limits, and volume limits. in addition, the following limits apply: the number of active ec2 fleets per aws region: 1,000 * †the number of launch specifications per fleet: 50 †the size of the user data in a launch specification: 16 kb †the target capacity per ec2 fleet: 10,000the target capacity across all ec2 fleets in a region: 100,000 *if you need more than the default limits for target capacity, complete the aws support center  form to request a limit increase. for limit type, choose ec2 fleet, choose a region, and then choose target fleet capacity per fleet (in units) or target fleet capacity per region (in units), or both. * these limits apply to both your ec2 fleets and your spot fleets. † these are hard limits. you cannot request a limit increase for these limits. if you plan to use your t3 spot instances immediately and for a short duration, with no idle time for accruing cpu credits, we recommend that you launch your t3 spot instances in  mode to avoid paying higher costs. if you launch your t3 spot instances in  mode and burst cpu immediately, you'll spend surplus credits for bursting. if you use the instance for a short duration, your instance doesn't have time to accrue cpu credits to pay down the surplus credits, and you are charged for the surplus credits when you terminate your instance.  mode for t3 spot instances is suitable only if the instance runs for long enough to accrue cpu credits for bursting. otherwise, paying for surplus credits makes t3 spot instances more expensive than m5 or c5 instances. for more information, see . launch credits are meant to provide a productive initial launch experience for t2 instances by providing sufficient compute resources to configure the instance. repeated launches of t2 instances to access new launch credits is not permitted. if you require sustained cpu, you can earn credits (by idling over some period), use , or use an instance type with dedicated cpu (for example, ). \""
      ]
     },
     "execution_count": 94,
     "metadata": {},
     "output_type": "execute_result"
    }
   ],
   "source": [
    "#Inspecting text assigned to ec2 instances topics to assess if it truly speaks about that\n",
    "df[df['Topic']=='EC2_Instances'].iloc[13]['Document']"
   ]
  },
  {
   "cell_type": "code",
   "execution_count": 91,
   "metadata": {},
   "outputs": [
    {
     "data": {
      "text/plain": [
       "'amazon s3 provides a set of tools to help you manage your s3 batch operations jobs after you create them. for more information about managing s3 batch operations, see  in the amazon simple storage service developer guide.    in the amazon simple storage service developer guide in the amazon simple storage service developer guide in the amazon simple storage service developer guide'"
      ]
     },
     "execution_count": 91,
     "metadata": {},
     "output_type": "execute_result"
    }
   ],
   "source": [
    "#Inspecting text assigned to compute topics to assess if it truly speaks about that\n",
    "df[df['Topic']=='Compute'].iloc[13]['Document']"
   ]
  },
  {
   "cell_type": "code",
   "execution_count": null,
   "metadata": {},
   "outputs": [],
   "source": []
  }
 ],
 "metadata": {
  "kernelspec": {
   "display_name": "Python 3.9.1 64-bit",
   "language": "python",
   "name": "python3"
  },
  "language_info": {
   "codemirror_mode": {
    "name": "ipython",
    "version": 3
   },
   "file_extension": ".py",
   "mimetype": "text/x-python",
   "name": "python",
   "nbconvert_exporter": "python",
   "pygments_lexer": "ipython3",
   "version": "3.9.1"
  },
  "orig_nbformat": 4,
  "vscode": {
   "interpreter": {
    "hash": "fefe1bf480c11bf003fba226430f9cc6591c2a11b0f80c22005b6e46c2183a03"
   }
  }
 },
 "nbformat": 4,
 "nbformat_minor": 2
}
